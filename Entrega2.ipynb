{
 "cells": [
  {
   "cell_type": "code",
   "execution_count": 92,
   "id": "230ccb27",
   "metadata": {},
   "outputs": [],
   "source": [
    "arch_nombres = open(\"nombres_1.txt\", mode='r',encoding='UTF-8')\n",
    "arch_eval1 = open(\"eval1.txt\", mode = 'r',encoding='UTF-8')\n",
    "arch_eval2 = open(\"eval2.txt\", mode = 'r',encoding='UTF-8')\n",
    "\n",
    "\n",
    "\n",
    "\n",
    "\n"
   ]
  },
  {
   "cell_type": "markdown",
   "id": "32ef6be0",
   "metadata": {},
   "source": [
    "Abrimos los archivos dados, y definimos cómo lo haremos. Solo lectura ya que no tenemos que modificarlo; y la decodificacion en utf-8 para poder leer. Si no definimos el encoding, nos daría error de decodificación cuando querramos leer."
   ]
  },
  {
   "cell_type": "code",
   "execution_count": 93,
   "id": "bc496f52",
   "metadata": {},
   "outputs": [],
   "source": [
    "names = arch_nombres.read()\n",
    "eval_uno = arch_eval1.read() \n",
    "eval_dos = arch_eval2.read() "
   ]
  },
  {
   "cell_type": "markdown",
   "id": "57bb0875",
   "metadata": {},
   "source": [
    "Leemos los datos en objetos, para luego estructurarlos."
   ]
  },
  {
   "cell_type": "code",
   "execution_count": 94,
   "id": "db5fbf7a",
   "metadata": {},
   "outputs": [],
   "source": [
    "eval_uno = eval_uno.replace (',','').split()\n",
    "eval_dos = eval_dos.replace (',','').split()\n",
    "names = names.replace(',','').replace('\\'', \"\").split()"
   ]
  },
  {
   "cell_type": "markdown",
   "id": "7bdc3826",
   "metadata": {},
   "source": [
    "Estructuramos los datos en listas de strings, eliminando comas o comillas.\n"
   ]
  },
  {
   "cell_type": "code",
   "execution_count": 95,
   "id": "64355c41",
   "metadata": {},
   "outputs": [],
   "source": [
    "def hago_lista (nombres,ev1,ev2):\n",
    "    \"\"\"Crea una lista de listas. Cada 'sublista' tendrá [nombre, nota total] y retorno la lista con todas las 'sublistas'\"\"\"\n",
    "    lista = []\n",
    "    num = 0\n",
    "    for alumno in nombres:\n",
    "        suma = int(ev1[num]) + int(ev2[num])\n",
    "        nota = [alumno,suma]\n",
    "        lista.append(nota)\n",
    "        num+=1\n",
    "    return lista\n",
    "\n"
   ]
  },
  {
   "cell_type": "markdown",
   "id": "2d22bbd9",
   "metadata": {},
   "source": [
    "Declaro una funcion que donde genero una nueva lista en la que voy a guardar listas ['alumno','nota_total']. Para eso itero en la lista 'names'(pasada como nombres).\n",
    "Sumo los elementos de los archivos con notas en la posición 'num'.\n",
    "Guardo el nombre 'alumno' en la primera posicion de la lista 'nota' , guardo 'suma' en la segunda posición de la lista 'nota'. \n",
    "Agrego la lista 'nota' a la lista general('lista').\n",
    "Avanzo la posición a la que voy a ir a buscar los elementos.\n",
    "Retorno la lista nueva\n"
   ]
  },
  {
   "cell_type": "code",
   "execution_count": 96,
   "id": "c2b76eec",
   "metadata": {},
   "outputs": [],
   "source": [
    "def calculo_prom(listado):\n",
    "    \"\"\"La función recibe la lista generada y suma el total de todas las notas que se encuentran en cada iteración de la lista en el elemento [1]\"\"\"\n",
    "    total=0\n",
    "    cant_alum=len(listado)\n",
    "    for nota in listado:\n",
    "        total += nota[1]\n",
    "    prom = total/cant_alum\n",
    "    return prom"
   ]
  },
  {
   "cell_type": "code",
   "execution_count": 97,
   "id": "468808c3",
   "metadata": {},
   "outputs": [],
   "source": [
    "def informar (listado, prom):\n",
    "    \"\"\"Itera nuevamente en la lista de notas y alumnos. Si la nota (segundo elemento de cada 'sublista') no alcanza el promedio,\n",
    "    se informa\"\"\"\n",
    "    for alumno in listado:\n",
    "        if alumno[1] < promedio:\n",
    "            print (f\"{alumno[0]} con nota:{alumno[1]} no alcanza el promedio\")\n"
   ]
  },
  {
   "cell_type": "code",
   "execution_count": 98,
   "id": "8ea74eee",
   "metadata": {},
   "outputs": [
    {
     "name": "stdout",
     "output_type": "stream",
     "text": [
      "[['Agustin', 111], ['Alan', 155], ['Andrés', 100], ['Ariadna', 108], ['Bautista', 99], ['CAROLINA', 134], ['CESAR', 78], ['David', 121], ['Diego', 33], ['Dolores', 53], ['DYLAN', 74], ['ELIANA', 13], ['Emanuel', 48], ['Fabián', 101], ['Facundo', 106], ['Facundo', 128], ['FEDERICO', 97], ['FEDERICO', 106], ['GONZALO', 76], ['Gregorio', 90], ['Ignacio', 21], ['Jonathan', 173], ['Jonathan', 62], ['Jorge', 79], ['JOSE', 100], ['JUAN', 68], ['Juan', 142], ['Juan', 112], ['Julian', 87], ['Julieta', 146], ['LAUTARO', 148], ['Leonel', 55], ['LUIS', 140], ['Luis', 109], ['Marcos', 103], ['María', 110], ['MATEO', 137], ['Matias', 114], ['Nicolás', 65], ['NICOLÁS', 22], ['Noelia', 105], ['Pablo', 99], ['Priscila', 24], ['TOMAS', 139], ['Tomás', 126], ['Ulises', 120], ['Yanina', 84]]\n",
      "--------------------------------\n",
      "96.19148936170212\n",
      "--------------------------------\n",
      "CESAR con nota:78 no alcanza el promedio\n",
      "Diego con nota:33 no alcanza el promedio\n",
      "Dolores con nota:53 no alcanza el promedio\n",
      "DYLAN con nota:74 no alcanza el promedio\n",
      "ELIANA con nota:13 no alcanza el promedio\n",
      "Emanuel con nota:48 no alcanza el promedio\n",
      "GONZALO con nota:76 no alcanza el promedio\n",
      "Gregorio con nota:90 no alcanza el promedio\n",
      "Ignacio con nota:21 no alcanza el promedio\n",
      "Jonathan con nota:62 no alcanza el promedio\n",
      "Jorge con nota:79 no alcanza el promedio\n",
      "JUAN con nota:68 no alcanza el promedio\n",
      "Julian con nota:87 no alcanza el promedio\n",
      "Leonel con nota:55 no alcanza el promedio\n",
      "Nicolás con nota:65 no alcanza el promedio\n",
      "NICOLÁS con nota:22 no alcanza el promedio\n",
      "Priscila con nota:24 no alcanza el promedio\n",
      "Yanina con nota:84 no alcanza el promedio\n"
     ]
    }
   ],
   "source": [
    "tabla=hago_lista(names,eval_uno, eval_dos)\n",
    "print (tabla)\n",
    "print(\"-\"*32)\n",
    "promedio = calculo_prom(tabla)\n",
    "print(promedio)\n",
    "print(\"-\"*32)\n",
    "informar(tabla,promedio)"
   ]
  },
  {
   "cell_type": "markdown",
   "id": "ff4966ef",
   "metadata": {},
   "source": [
    "    \"tabla\" almacena la estructura de tipo lista, que contiene sublistas con [nombre,nota_total]\n",
    "    \"promedio\" contiene el valor obtenido de sumar las notas totales de todos y dividirlo por la cantidad de alumnos\n",
    "    Invocamos a \"informar\", que imprime el nombre y la nota de aquellos alumnos que no alcanzaron el promedio"
   ]
  },
  {
   "cell_type": "code",
   "execution_count": null,
   "id": "f33e5c48",
   "metadata": {},
   "outputs": [],
   "source": []
  }
 ],
 "metadata": {
  "kernelspec": {
   "display_name": "Python 3 (ipykernel)",
   "language": "python",
   "name": "python3"
  },
  "language_info": {
   "codemirror_mode": {
    "name": "ipython",
    "version": 3
   },
   "file_extension": ".py",
   "mimetype": "text/x-python",
   "name": "python",
   "nbconvert_exporter": "python",
   "pygments_lexer": "ipython3",
   "version": "3.10.3"
  }
 },
 "nbformat": 4,
 "nbformat_minor": 5
}
